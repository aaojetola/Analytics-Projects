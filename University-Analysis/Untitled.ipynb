{
 "cells": [
  {
   "cell_type": "code",
   "execution_count": 2,
   "metadata": {},
   "outputs": [],
   "source": [
    "import pandas as pd\n",
    "import numpy as np\n",
    "import matplotlib as plt\n",
    "import plotly.graph_objs as go\n",
    "import os"
   ]
  },
  {
   "cell_type": "code",
   "execution_count": 3,
   "metadata": {},
   "outputs": [
    {
     "data": {
      "text/plain": [
       "['Employee_Information.csv',\n",
       " 'Student_Counceling_Information.csv',\n",
       " 'Untitled.ipynb',\n",
       " '.ipynb_checkpoints',\n",
       " 'Department_Information.csv',\n",
       " 'Student_Performance_Data.csv']"
      ]
     },
     "execution_count": 3,
     "metadata": {},
     "output_type": "execute_result"
    }
   ],
   "source": [
    "os.listdir()"
   ]
  },
  {
   "cell_type": "code",
   "execution_count": 14,
   "metadata": {},
   "outputs": [],
   "source": [
    "emp_df = pd.read_csv('Employee_Information.csv')\n",
    "perf_df = pd.read_csv('Student_Performance_Data.csv')\n",
    "dpt_df = pd.read_csv('Department_Information.csv')\n",
    "student_df = pd.read_csv('Student_Counceling_Information.csv')"
   ]
  },
  {
   "cell_type": "code",
   "execution_count": 64,
   "metadata": {
    "collapsed": true
   },
   "outputs": [
    {
     "data": {
      "text/html": [
       "<div>\n",
       "<style scoped>\n",
       "    .dataframe tbody tr th:only-of-type {\n",
       "        vertical-align: middle;\n",
       "    }\n",
       "\n",
       "    .dataframe tbody tr th {\n",
       "        vertical-align: top;\n",
       "    }\n",
       "\n",
       "    .dataframe thead th {\n",
       "        text-align: right;\n",
       "    }\n",
       "</style>\n",
       "<table border=\"1\" class=\"dataframe\">\n",
       "  <thead>\n",
       "    <tr style=\"text-align: right;\">\n",
       "      <th></th>\n",
       "      <th>Student_ID</th>\n",
       "      <th>DOA</th>\n",
       "      <th>DOB</th>\n",
       "      <th>Department_Choices</th>\n",
       "      <th>Department_Admission</th>\n",
       "    </tr>\n",
       "  </thead>\n",
       "  <tbody>\n",
       "    <tr>\n",
       "      <th>count</th>\n",
       "      <td>3819</td>\n",
       "      <td>3819</td>\n",
       "      <td>3819</td>\n",
       "      <td>3819</td>\n",
       "      <td>3819</td>\n",
       "    </tr>\n",
       "    <tr>\n",
       "      <th>unique</th>\n",
       "      <td>3819</td>\n",
       "      <td>6</td>\n",
       "      <td>1798</td>\n",
       "      <td>40</td>\n",
       "      <td>40</td>\n",
       "    </tr>\n",
       "    <tr>\n",
       "      <th>top</th>\n",
       "      <td>SID20137844</td>\n",
       "      <td>2015-07-01T00:00:00Z</td>\n",
       "      <td>2000-08-19T00:00:00Z</td>\n",
       "      <td>IDEPT3115</td>\n",
       "      <td>IDEPT3115</td>\n",
       "    </tr>\n",
       "    <tr>\n",
       "      <th>freq</th>\n",
       "      <td>1</td>\n",
       "      <td>660</td>\n",
       "      <td>8</td>\n",
       "      <td>113</td>\n",
       "      <td>113</td>\n",
       "    </tr>\n",
       "  </tbody>\n",
       "</table>\n",
       "</div>"
      ],
      "text/plain": [
       "         Student_ID                   DOA                   DOB  \\\n",
       "count          3819                  3819                  3819   \n",
       "unique         3819                     6                  1798   \n",
       "top     SID20137844  2015-07-01T00:00:00Z  2000-08-19T00:00:00Z   \n",
       "freq              1                   660                     8   \n",
       "\n",
       "       Department_Choices Department_Admission  \n",
       "count                3819                 3819  \n",
       "unique                 40                   40  \n",
       "top             IDEPT3115            IDEPT3115  \n",
       "freq                  113                  113  "
      ]
     },
     "execution_count": 64,
     "metadata": {},
     "output_type": "execute_result"
    }
   ],
   "source": [
    "student_df.describe(include='all')"
   ]
  },
  {
   "cell_type": "code",
   "execution_count": 40,
   "metadata": {
    "scrolled": true
   },
   "outputs": [],
   "source": [
    "student_df.drop_duplicates(subset='Student_ID',inplace=True)"
   ]
  },
  {
   "cell_type": "code",
   "execution_count": 41,
   "metadata": {},
   "outputs": [
    {
     "data": {
      "text/plain": [
       "0"
      ]
     },
     "execution_count": 41,
     "metadata": {},
     "output_type": "execute_result"
    }
   ],
   "source": [
    "student_df.duplicated(subset='Student_ID').sum()"
   ]
  },
  {
   "cell_type": "code",
   "execution_count": 30,
   "metadata": {
    "collapsed": true
   },
   "outputs": [
    {
     "data": {
      "text/html": [
       "<div>\n",
       "<style scoped>\n",
       "    .dataframe tbody tr th:only-of-type {\n",
       "        vertical-align: middle;\n",
       "    }\n",
       "\n",
       "    .dataframe tbody tr th {\n",
       "        vertical-align: top;\n",
       "    }\n",
       "\n",
       "    .dataframe thead th {\n",
       "        text-align: right;\n",
       "    }\n",
       "</style>\n",
       "<table border=\"1\" class=\"dataframe\">\n",
       "  <thead>\n",
       "    <tr style=\"text-align: right;\">\n",
       "      <th></th>\n",
       "      <th>Marks</th>\n",
       "    </tr>\n",
       "  </thead>\n",
       "  <tbody>\n",
       "    <tr>\n",
       "      <th>count</th>\n",
       "      <td>209611.000000</td>\n",
       "    </tr>\n",
       "    <tr>\n",
       "      <th>mean</th>\n",
       "      <td>69.589573</td>\n",
       "    </tr>\n",
       "    <tr>\n",
       "      <th>std</th>\n",
       "      <td>18.098626</td>\n",
       "    </tr>\n",
       "    <tr>\n",
       "      <th>min</th>\n",
       "      <td>19.000000</td>\n",
       "    </tr>\n",
       "    <tr>\n",
       "      <th>25%</th>\n",
       "      <td>54.000000</td>\n",
       "    </tr>\n",
       "    <tr>\n",
       "      <th>50%</th>\n",
       "      <td>70.000000</td>\n",
       "    </tr>\n",
       "    <tr>\n",
       "      <th>75%</th>\n",
       "      <td>85.000000</td>\n",
       "    </tr>\n",
       "    <tr>\n",
       "      <th>max</th>\n",
       "      <td>100.000000</td>\n",
       "    </tr>\n",
       "  </tbody>\n",
       "</table>\n",
       "</div>"
      ],
      "text/plain": [
       "               Marks\n",
       "count  209611.000000\n",
       "mean       69.589573\n",
       "std        18.098626\n",
       "min        19.000000\n",
       "25%        54.000000\n",
       "50%        70.000000\n",
       "75%        85.000000\n",
       "max       100.000000"
      ]
     },
     "execution_count": 30,
     "metadata": {},
     "output_type": "execute_result"
    }
   ],
   "source": [
    "perf_df.describe()"
   ]
  },
  {
   "cell_type": "code",
   "execution_count": 32,
   "metadata": {
    "collapsed": true
   },
   "outputs": [
    {
     "data": {
      "text/html": [
       "<div>\n",
       "<style scoped>\n",
       "    .dataframe tbody tr th:only-of-type {\n",
       "        vertical-align: middle;\n",
       "    }\n",
       "\n",
       "    .dataframe tbody tr th {\n",
       "        vertical-align: top;\n",
       "    }\n",
       "\n",
       "    .dataframe thead th {\n",
       "        text-align: right;\n",
       "    }\n",
       "</style>\n",
       "<table border=\"1\" class=\"dataframe\">\n",
       "  <thead>\n",
       "    <tr style=\"text-align: right;\">\n",
       "      <th></th>\n",
       "      <th>Employee ID</th>\n",
       "      <th>DOB</th>\n",
       "      <th>DOJ</th>\n",
       "      <th>Department_ID</th>\n",
       "    </tr>\n",
       "  </thead>\n",
       "  <tbody>\n",
       "    <tr>\n",
       "      <th>count</th>\n",
       "      <td>1000</td>\n",
       "      <td>1000</td>\n",
       "      <td>1000</td>\n",
       "      <td>1000</td>\n",
       "    </tr>\n",
       "    <tr>\n",
       "      <th>unique</th>\n",
       "      <td>998</td>\n",
       "      <td>936</td>\n",
       "      <td>919</td>\n",
       "      <td>34</td>\n",
       "    </tr>\n",
       "    <tr>\n",
       "      <th>top</th>\n",
       "      <td>IU444477</td>\n",
       "      <td>1992-10-02T00:00:00Z</td>\n",
       "      <td>2001-09-18T00:00:00Z</td>\n",
       "      <td>IDEPT5109</td>\n",
       "    </tr>\n",
       "    <tr>\n",
       "      <th>freq</th>\n",
       "      <td>2</td>\n",
       "      <td>3</td>\n",
       "      <td>3</td>\n",
       "      <td>42</td>\n",
       "    </tr>\n",
       "  </tbody>\n",
       "</table>\n",
       "</div>"
      ],
      "text/plain": [
       "       Employee ID                   DOB                   DOJ Department_ID\n",
       "count         1000                  1000                  1000          1000\n",
       "unique         998                   936                   919            34\n",
       "top       IU444477  1992-10-02T00:00:00Z  2001-09-18T00:00:00Z     IDEPT5109\n",
       "freq             2                     3                     3            42"
      ]
     },
     "execution_count": 32,
     "metadata": {},
     "output_type": "execute_result"
    }
   ],
   "source": [
    "emp_df.describe()"
   ]
  },
  {
   "cell_type": "code",
   "execution_count": 44,
   "metadata": {},
   "outputs": [
    {
     "data": {
      "text/plain": [
       "Employee ID      False\n",
       "DOB              False\n",
       "DOJ              False\n",
       "Department_ID    False\n",
       "dtype: bool"
      ]
     },
     "execution_count": 44,
     "metadata": {},
     "output_type": "execute_result"
    }
   ],
   "source": [
    "emp_df.isna().any()"
   ]
  },
  {
   "cell_type": "code",
   "execution_count": 47,
   "metadata": {
    "scrolled": true
   },
   "outputs": [
    {
     "name": "stdout",
     "output_type": "stream",
     "text": [
      "<class 'pandas.core.frame.DataFrame'>\n",
      "RangeIndex: 1000 entries, 0 to 999\n",
      "Data columns (total 4 columns):\n",
      " #   Column         Non-Null Count  Dtype \n",
      "---  ------         --------------  ----- \n",
      " 0   Employee ID    1000 non-null   object\n",
      " 1   DOB            1000 non-null   object\n",
      " 2   DOJ            1000 non-null   object\n",
      " 3   Department_ID  1000 non-null   object\n",
      "dtypes: object(4)\n",
      "memory usage: 31.4+ KB\n"
     ]
    }
   ],
   "source": [
    "emp_df.info()"
   ]
  },
  {
   "cell_type": "code",
   "execution_count": 82,
   "metadata": {},
   "outputs": [],
   "source": [
    "def Born(x):\n",
    "    return x.split('-')[0]\n",
    "def Joined(x):\n",
    "    return x.split('-')[0]"
   ]
  },
  {
   "cell_type": "code",
   "execution_count": 83,
   "metadata": {},
   "outputs": [],
   "source": [
    "emp_df['Born'] = emp_df['DOB'].apply(Born)\n",
    "emp_df['Joined'] = emp_df['DOJ'].apply(Joined)"
   ]
  },
  {
   "cell_type": "code",
   "execution_count": 88,
   "metadata": {
    "scrolled": true
   },
   "outputs": [],
   "source": [
    "emp_df = emp_df.drop(['DOB','DOJ'],axis=1)"
   ]
  },
  {
   "cell_type": "code",
   "execution_count": 89,
   "metadata": {
    "collapsed": true
   },
   "outputs": [
    {
     "data": {
      "text/html": [
       "<div>\n",
       "<style scoped>\n",
       "    .dataframe tbody tr th:only-of-type {\n",
       "        vertical-align: middle;\n",
       "    }\n",
       "\n",
       "    .dataframe tbody tr th {\n",
       "        vertical-align: top;\n",
       "    }\n",
       "\n",
       "    .dataframe thead th {\n",
       "        text-align: right;\n",
       "    }\n",
       "</style>\n",
       "<table border=\"1\" class=\"dataframe\">\n",
       "  <thead>\n",
       "    <tr style=\"text-align: right;\">\n",
       "      <th></th>\n",
       "      <th>Employee ID</th>\n",
       "      <th>Department_ID</th>\n",
       "      <th>Born</th>\n",
       "      <th>Joined</th>\n",
       "    </tr>\n",
       "  </thead>\n",
       "  <tbody>\n",
       "    <tr>\n",
       "      <th>0</th>\n",
       "      <td>IU196557</td>\n",
       "      <td>IDEPT4938</td>\n",
       "      <td>1983</td>\n",
       "      <td>2009</td>\n",
       "    </tr>\n",
       "    <tr>\n",
       "      <th>1</th>\n",
       "      <td>IU449901</td>\n",
       "      <td>IDEPT2357</td>\n",
       "      <td>1985</td>\n",
       "      <td>2009</td>\n",
       "    </tr>\n",
       "    <tr>\n",
       "      <th>2</th>\n",
       "      <td>IU206427</td>\n",
       "      <td>IDEPT4670</td>\n",
       "      <td>1971</td>\n",
       "      <td>2008</td>\n",
       "    </tr>\n",
       "    <tr>\n",
       "      <th>3</th>\n",
       "      <td>IU688905</td>\n",
       "      <td>IDEPT2601</td>\n",
       "      <td>1973</td>\n",
       "      <td>2002</td>\n",
       "    </tr>\n",
       "    <tr>\n",
       "      <th>4</th>\n",
       "      <td>IU634582</td>\n",
       "      <td>IDEPT7626</td>\n",
       "      <td>1991</td>\n",
       "      <td>2000</td>\n",
       "    </tr>\n",
       "  </tbody>\n",
       "</table>\n",
       "</div>"
      ],
      "text/plain": [
       "  Employee ID Department_ID  Born Joined\n",
       "0    IU196557     IDEPT4938  1983   2009\n",
       "1    IU449901     IDEPT2357  1985   2009\n",
       "2    IU206427     IDEPT4670  1971   2008\n",
       "3    IU688905     IDEPT2601  1973   2002\n",
       "4    IU634582     IDEPT7626  1991   2000"
      ]
     },
     "execution_count": 89,
     "metadata": {},
     "output_type": "execute_result"
    }
   ],
   "source": [
    "emp_df.head()"
   ]
  },
  {
   "cell_type": "code",
   "execution_count": 49,
   "metadata": {},
   "outputs": [
    {
     "data": {
      "text/plain": [
       "True"
      ]
     },
     "execution_count": 49,
     "metadata": {},
     "output_type": "execute_result"
    }
   ],
   "source": [
    "emp_df.duplicated(subset='Employee ID').any()"
   ]
  },
  {
   "cell_type": "code",
   "execution_count": 50,
   "metadata": {},
   "outputs": [],
   "source": [
    "emp_df.drop_duplicates(subset='Employee ID',inplace=True)"
   ]
  },
  {
   "cell_type": "code",
   "execution_count": 51,
   "metadata": {},
   "outputs": [
    {
     "data": {
      "text/plain": [
       "False"
      ]
     },
     "execution_count": 51,
     "metadata": {},
     "output_type": "execute_result"
    }
   ],
   "source": [
    "emp_df.duplicated(subset='Employee ID').any()"
   ]
  },
  {
   "cell_type": "code",
   "execution_count": 90,
   "metadata": {
    "collapsed": true
   },
   "outputs": [
    {
     "data": {
      "text/html": [
       "<div>\n",
       "<style scoped>\n",
       "    .dataframe tbody tr th:only-of-type {\n",
       "        vertical-align: middle;\n",
       "    }\n",
       "\n",
       "    .dataframe tbody tr th {\n",
       "        vertical-align: top;\n",
       "    }\n",
       "\n",
       "    .dataframe thead th {\n",
       "        text-align: right;\n",
       "    }\n",
       "</style>\n",
       "<table border=\"1\" class=\"dataframe\">\n",
       "  <thead>\n",
       "    <tr style=\"text-align: right;\">\n",
       "      <th></th>\n",
       "      <th>Employee ID</th>\n",
       "      <th>Department_ID</th>\n",
       "      <th>Born</th>\n",
       "      <th>Joined</th>\n",
       "    </tr>\n",
       "  </thead>\n",
       "  <tbody>\n",
       "    <tr>\n",
       "      <th>0</th>\n",
       "      <td>IU196557</td>\n",
       "      <td>IDEPT4938</td>\n",
       "      <td>1983</td>\n",
       "      <td>2009</td>\n",
       "    </tr>\n",
       "    <tr>\n",
       "      <th>1</th>\n",
       "      <td>IU449901</td>\n",
       "      <td>IDEPT2357</td>\n",
       "      <td>1985</td>\n",
       "      <td>2009</td>\n",
       "    </tr>\n",
       "    <tr>\n",
       "      <th>2</th>\n",
       "      <td>IU206427</td>\n",
       "      <td>IDEPT4670</td>\n",
       "      <td>1971</td>\n",
       "      <td>2008</td>\n",
       "    </tr>\n",
       "    <tr>\n",
       "      <th>3</th>\n",
       "      <td>IU688905</td>\n",
       "      <td>IDEPT2601</td>\n",
       "      <td>1973</td>\n",
       "      <td>2002</td>\n",
       "    </tr>\n",
       "    <tr>\n",
       "      <th>4</th>\n",
       "      <td>IU634582</td>\n",
       "      <td>IDEPT7626</td>\n",
       "      <td>1991</td>\n",
       "      <td>2000</td>\n",
       "    </tr>\n",
       "  </tbody>\n",
       "</table>\n",
       "</div>"
      ],
      "text/plain": [
       "  Employee ID Department_ID  Born Joined\n",
       "0    IU196557     IDEPT4938  1983   2009\n",
       "1    IU449901     IDEPT2357  1985   2009\n",
       "2    IU206427     IDEPT4670  1971   2008\n",
       "3    IU688905     IDEPT2601  1973   2002\n",
       "4    IU634582     IDEPT7626  1991   2000"
      ]
     },
     "execution_count": 90,
     "metadata": {},
     "output_type": "execute_result"
    }
   ],
   "source": [
    "emp_df.head()"
   ]
  },
  {
   "cell_type": "code",
   "execution_count": 105,
   "metadata": {},
   "outputs": [
    {
     "data": {
      "text/html": [
       "<div>\n",
       "<style scoped>\n",
       "    .dataframe tbody tr th:only-of-type {\n",
       "        vertical-align: middle;\n",
       "    }\n",
       "\n",
       "    .dataframe tbody tr th {\n",
       "        vertical-align: top;\n",
       "    }\n",
       "\n",
       "    .dataframe thead th {\n",
       "        text-align: right;\n",
       "    }\n",
       "</style>\n",
       "<table border=\"1\" class=\"dataframe\">\n",
       "  <thead>\n",
       "    <tr style=\"text-align: right;\">\n",
       "      <th></th>\n",
       "      <th>Student_ID</th>\n",
       "      <th>Semster_Name</th>\n",
       "      <th>Paper_ID</th>\n",
       "      <th>Paper_Name</th>\n",
       "      <th>Marks</th>\n",
       "    </tr>\n",
       "  </thead>\n",
       "  <tbody>\n",
       "    <tr>\n",
       "      <th>0</th>\n",
       "      <td>SID20131143</td>\n",
       "      <td>Sem_1</td>\n",
       "      <td>SEMI0012995</td>\n",
       "      <td>Paper 1</td>\n",
       "      <td>44</td>\n",
       "    </tr>\n",
       "    <tr>\n",
       "      <th>1</th>\n",
       "      <td>SID20131143</td>\n",
       "      <td>Sem_1</td>\n",
       "      <td>SEMI0015183</td>\n",
       "      <td>Paper 2</td>\n",
       "      <td>74</td>\n",
       "    </tr>\n",
       "    <tr>\n",
       "      <th>2</th>\n",
       "      <td>SID20131143</td>\n",
       "      <td>Sem_1</td>\n",
       "      <td>SEMI0018371</td>\n",
       "      <td>Paper 3</td>\n",
       "      <td>80</td>\n",
       "    </tr>\n",
       "    <tr>\n",
       "      <th>3</th>\n",
       "      <td>SID20131143</td>\n",
       "      <td>Sem_1</td>\n",
       "      <td>SEMI0015910</td>\n",
       "      <td>Paper 4</td>\n",
       "      <td>44</td>\n",
       "    </tr>\n",
       "    <tr>\n",
       "      <th>4</th>\n",
       "      <td>SID20131143</td>\n",
       "      <td>Sem_1</td>\n",
       "      <td>SEMI0016208</td>\n",
       "      <td>Paper 5</td>\n",
       "      <td>95</td>\n",
       "    </tr>\n",
       "  </tbody>\n",
       "</table>\n",
       "</div>"
      ],
      "text/plain": [
       "    Student_ID Semster_Name     Paper_ID Paper_Name  Marks\n",
       "0  SID20131143        Sem_1  SEMI0012995    Paper 1     44\n",
       "1  SID20131143        Sem_1  SEMI0015183    Paper 2     74\n",
       "2  SID20131143        Sem_1  SEMI0018371    Paper 3     80\n",
       "3  SID20131143        Sem_1  SEMI0015910    Paper 4     44\n",
       "4  SID20131143        Sem_1  SEMI0016208    Paper 5     95"
      ]
     },
     "execution_count": 105,
     "metadata": {},
     "output_type": "execute_result"
    }
   ],
   "source": [
    "perf_df.head()"
   ]
  },
  {
   "cell_type": "code",
   "execution_count": 92,
   "metadata": {
    "scrolled": true
   },
   "outputs": [
    {
     "data": {
      "text/html": [
       "<div>\n",
       "<style scoped>\n",
       "    .dataframe tbody tr th:only-of-type {\n",
       "        vertical-align: middle;\n",
       "    }\n",
       "\n",
       "    .dataframe tbody tr th {\n",
       "        vertical-align: top;\n",
       "    }\n",
       "\n",
       "    .dataframe thead th {\n",
       "        text-align: right;\n",
       "    }\n",
       "</style>\n",
       "<table border=\"1\" class=\"dataframe\">\n",
       "  <thead>\n",
       "    <tr style=\"text-align: right;\">\n",
       "      <th></th>\n",
       "      <th>Student_ID</th>\n",
       "      <th>DOA</th>\n",
       "      <th>DOB</th>\n",
       "      <th>Department_Choices</th>\n",
       "      <th>Department_Admission</th>\n",
       "    </tr>\n",
       "  </thead>\n",
       "  <tbody>\n",
       "    <tr>\n",
       "      <th>0</th>\n",
       "      <td>SID20131143</td>\n",
       "      <td>2013-07-01T00:00:00Z</td>\n",
       "      <td>1996-02-05T00:00:00Z</td>\n",
       "      <td>IDEPT7783</td>\n",
       "      <td>IDEPT7783</td>\n",
       "    </tr>\n",
       "    <tr>\n",
       "      <th>1</th>\n",
       "      <td>SID20131151</td>\n",
       "      <td>2013-07-01T00:00:00Z</td>\n",
       "      <td>1995-07-31T00:00:00Z</td>\n",
       "      <td>IDEPT6347</td>\n",
       "      <td>IDEPT6347</td>\n",
       "    </tr>\n",
       "    <tr>\n",
       "      <th>2</th>\n",
       "      <td>SID20131171</td>\n",
       "      <td>2013-07-01T00:00:00Z</td>\n",
       "      <td>1995-09-05T00:00:00Z</td>\n",
       "      <td>IDEPT1836</td>\n",
       "      <td>IDEPT1836</td>\n",
       "    </tr>\n",
       "    <tr>\n",
       "      <th>3</th>\n",
       "      <td>SID20131176</td>\n",
       "      <td>2013-07-01T00:00:00Z</td>\n",
       "      <td>1996-01-12T00:00:00Z</td>\n",
       "      <td>IDEPT8473</td>\n",
       "      <td>IDEPT8473</td>\n",
       "    </tr>\n",
       "    <tr>\n",
       "      <th>4</th>\n",
       "      <td>SID20131177</td>\n",
       "      <td>2013-07-01T00:00:00Z</td>\n",
       "      <td>1995-07-30T00:00:00Z</td>\n",
       "      <td>IDEPT5528</td>\n",
       "      <td>IDEPT5528</td>\n",
       "    </tr>\n",
       "  </tbody>\n",
       "</table>\n",
       "</div>"
      ],
      "text/plain": [
       "    Student_ID                   DOA                   DOB Department_Choices  \\\n",
       "0  SID20131143  2013-07-01T00:00:00Z  1996-02-05T00:00:00Z          IDEPT7783   \n",
       "1  SID20131151  2013-07-01T00:00:00Z  1995-07-31T00:00:00Z          IDEPT6347   \n",
       "2  SID20131171  2013-07-01T00:00:00Z  1995-09-05T00:00:00Z          IDEPT1836   \n",
       "3  SID20131176  2013-07-01T00:00:00Z  1996-01-12T00:00:00Z          IDEPT8473   \n",
       "4  SID20131177  2013-07-01T00:00:00Z  1995-07-30T00:00:00Z          IDEPT5528   \n",
       "\n",
       "  Department_Admission  \n",
       "0            IDEPT7783  \n",
       "1            IDEPT6347  \n",
       "2            IDEPT1836  \n",
       "3            IDEPT8473  \n",
       "4            IDEPT5528  "
      ]
     },
     "execution_count": 92,
     "metadata": {},
     "output_type": "execute_result"
    }
   ],
   "source": [
    "student_df.head()"
   ]
  },
  {
   "cell_type": "code",
   "execution_count": 93,
   "metadata": {},
   "outputs": [],
   "source": [
    "def Admitted(x):\n",
    "    return x.split('-')[0]\n",
    "def Born(x):\n",
    "    return x.split('-')[0]"
   ]
  },
  {
   "cell_type": "code",
   "execution_count": 96,
   "metadata": {},
   "outputs": [],
   "source": [
    "student_df['Admitted'] = student_df['DOA'].apply(Admitted)\n",
    "student_df['Born'] = student_df['DOB'].apply(Born)"
   ]
  },
  {
   "cell_type": "code",
   "execution_count": 132,
   "metadata": {},
   "outputs": [],
   "source": [
    "student_df = student_df.drop(['Born'],axis=1)"
   ]
  },
  {
   "cell_type": "code",
   "execution_count": 133,
   "metadata": {},
   "outputs": [
    {
     "data": {
      "text/html": [
       "<div>\n",
       "<style scoped>\n",
       "    .dataframe tbody tr th:only-of-type {\n",
       "        vertical-align: middle;\n",
       "    }\n",
       "\n",
       "    .dataframe tbody tr th {\n",
       "        vertical-align: top;\n",
       "    }\n",
       "\n",
       "    .dataframe thead th {\n",
       "        text-align: right;\n",
       "    }\n",
       "</style>\n",
       "<table border=\"1\" class=\"dataframe\">\n",
       "  <thead>\n",
       "    <tr style=\"text-align: right;\">\n",
       "      <th></th>\n",
       "      <th>Student_ID</th>\n",
       "      <th>Department_Choices</th>\n",
       "      <th>Department_Admission</th>\n",
       "      <th>Admitted</th>\n",
       "    </tr>\n",
       "  </thead>\n",
       "  <tbody>\n",
       "    <tr>\n",
       "      <th>0</th>\n",
       "      <td>SID20131143</td>\n",
       "      <td>IDEPT7783</td>\n",
       "      <td>IDEPT7783</td>\n",
       "      <td>2013</td>\n",
       "    </tr>\n",
       "    <tr>\n",
       "      <th>1</th>\n",
       "      <td>SID20131151</td>\n",
       "      <td>IDEPT6347</td>\n",
       "      <td>IDEPT6347</td>\n",
       "      <td>2013</td>\n",
       "    </tr>\n",
       "    <tr>\n",
       "      <th>2</th>\n",
       "      <td>SID20131171</td>\n",
       "      <td>IDEPT1836</td>\n",
       "      <td>IDEPT1836</td>\n",
       "      <td>2013</td>\n",
       "    </tr>\n",
       "    <tr>\n",
       "      <th>3</th>\n",
       "      <td>SID20131176</td>\n",
       "      <td>IDEPT8473</td>\n",
       "      <td>IDEPT8473</td>\n",
       "      <td>2013</td>\n",
       "    </tr>\n",
       "    <tr>\n",
       "      <th>4</th>\n",
       "      <td>SID20131177</td>\n",
       "      <td>IDEPT5528</td>\n",
       "      <td>IDEPT5528</td>\n",
       "      <td>2013</td>\n",
       "    </tr>\n",
       "    <tr>\n",
       "      <th>...</th>\n",
       "      <td>...</td>\n",
       "      <td>...</td>\n",
       "      <td>...</td>\n",
       "      <td>...</td>\n",
       "    </tr>\n",
       "    <tr>\n",
       "      <th>3995</th>\n",
       "      <td>SID20189921</td>\n",
       "      <td>IDEPT7005</td>\n",
       "      <td>IDEPT7005</td>\n",
       "      <td>2018</td>\n",
       "    </tr>\n",
       "    <tr>\n",
       "      <th>3996</th>\n",
       "      <td>SID20189926</td>\n",
       "      <td>IDEPT1836</td>\n",
       "      <td>IDEPT1836</td>\n",
       "      <td>2018</td>\n",
       "    </tr>\n",
       "    <tr>\n",
       "      <th>3997</th>\n",
       "      <td>SID20189949</td>\n",
       "      <td>IDEPT4938</td>\n",
       "      <td>IDEPT4938</td>\n",
       "      <td>2018</td>\n",
       "    </tr>\n",
       "    <tr>\n",
       "      <th>3998</th>\n",
       "      <td>SID20189982</td>\n",
       "      <td>IDEPT6347</td>\n",
       "      <td>IDEPT6347</td>\n",
       "      <td>2018</td>\n",
       "    </tr>\n",
       "    <tr>\n",
       "      <th>3999</th>\n",
       "      <td>SID20189989</td>\n",
       "      <td>IDEPT3062</td>\n",
       "      <td>IDEPT3062</td>\n",
       "      <td>2018</td>\n",
       "    </tr>\n",
       "  </tbody>\n",
       "</table>\n",
       "<p>3819 rows × 4 columns</p>\n",
       "</div>"
      ],
      "text/plain": [
       "       Student_ID Department_Choices Department_Admission Admitted\n",
       "0     SID20131143          IDEPT7783            IDEPT7783     2013\n",
       "1     SID20131151          IDEPT6347            IDEPT6347     2013\n",
       "2     SID20131171          IDEPT1836            IDEPT1836     2013\n",
       "3     SID20131176          IDEPT8473            IDEPT8473     2013\n",
       "4     SID20131177          IDEPT5528            IDEPT5528     2013\n",
       "...           ...                ...                  ...      ...\n",
       "3995  SID20189921          IDEPT7005            IDEPT7005     2018\n",
       "3996  SID20189926          IDEPT1836            IDEPT1836     2018\n",
       "3997  SID20189949          IDEPT4938            IDEPT4938     2018\n",
       "3998  SID20189982          IDEPT6347            IDEPT6347     2018\n",
       "3999  SID20189989          IDEPT3062            IDEPT3062     2018\n",
       "\n",
       "[3819 rows x 4 columns]"
      ]
     },
     "execution_count": 133,
     "metadata": {},
     "output_type": "execute_result"
    }
   ],
   "source": [
    "student_df"
   ]
  },
  {
   "cell_type": "code",
   "execution_count": 107,
   "metadata": {},
   "outputs": [
    {
     "data": {
      "text/html": [
       "<div>\n",
       "<style scoped>\n",
       "    .dataframe tbody tr th:only-of-type {\n",
       "        vertical-align: middle;\n",
       "    }\n",
       "\n",
       "    .dataframe tbody tr th {\n",
       "        vertical-align: top;\n",
       "    }\n",
       "\n",
       "    .dataframe thead th {\n",
       "        text-align: right;\n",
       "    }\n",
       "</style>\n",
       "<table border=\"1\" class=\"dataframe\">\n",
       "  <thead>\n",
       "    <tr style=\"text-align: right;\">\n",
       "      <th></th>\n",
       "      <th>Student_ID</th>\n",
       "      <th>Semster_Name</th>\n",
       "      <th>Paper_ID</th>\n",
       "      <th>Paper_Name</th>\n",
       "      <th>Marks</th>\n",
       "    </tr>\n",
       "  </thead>\n",
       "  <tbody>\n",
       "    <tr>\n",
       "      <th>0</th>\n",
       "      <td>SID20131143</td>\n",
       "      <td>Sem_1</td>\n",
       "      <td>SEMI0012995</td>\n",
       "      <td>Paper 1</td>\n",
       "      <td>44</td>\n",
       "    </tr>\n",
       "    <tr>\n",
       "      <th>1</th>\n",
       "      <td>SID20131143</td>\n",
       "      <td>Sem_1</td>\n",
       "      <td>SEMI0015183</td>\n",
       "      <td>Paper 2</td>\n",
       "      <td>74</td>\n",
       "    </tr>\n",
       "    <tr>\n",
       "      <th>2</th>\n",
       "      <td>SID20131143</td>\n",
       "      <td>Sem_1</td>\n",
       "      <td>SEMI0018371</td>\n",
       "      <td>Paper 3</td>\n",
       "      <td>80</td>\n",
       "    </tr>\n",
       "    <tr>\n",
       "      <th>3</th>\n",
       "      <td>SID20131143</td>\n",
       "      <td>Sem_1</td>\n",
       "      <td>SEMI0015910</td>\n",
       "      <td>Paper 4</td>\n",
       "      <td>44</td>\n",
       "    </tr>\n",
       "    <tr>\n",
       "      <th>4</th>\n",
       "      <td>SID20131143</td>\n",
       "      <td>Sem_1</td>\n",
       "      <td>SEMI0016208</td>\n",
       "      <td>Paper 5</td>\n",
       "      <td>95</td>\n",
       "    </tr>\n",
       "    <tr>\n",
       "      <th>...</th>\n",
       "      <td>...</td>\n",
       "      <td>...</td>\n",
       "      <td>...</td>\n",
       "      <td>...</td>\n",
       "      <td>...</td>\n",
       "    </tr>\n",
       "    <tr>\n",
       "      <th>209606</th>\n",
       "      <td>SID20189989</td>\n",
       "      <td>Sem_8</td>\n",
       "      <td>SEMI0082598</td>\n",
       "      <td>Paper 3</td>\n",
       "      <td>94</td>\n",
       "    </tr>\n",
       "    <tr>\n",
       "      <th>209607</th>\n",
       "      <td>SID20189989</td>\n",
       "      <td>Sem_8</td>\n",
       "      <td>SEMI0088030</td>\n",
       "      <td>Paper 4</td>\n",
       "      <td>49</td>\n",
       "    </tr>\n",
       "    <tr>\n",
       "      <th>209608</th>\n",
       "      <td>SID20189989</td>\n",
       "      <td>Sem_8</td>\n",
       "      <td>SEMI0081794</td>\n",
       "      <td>Paper 5</td>\n",
       "      <td>47</td>\n",
       "    </tr>\n",
       "    <tr>\n",
       "      <th>209609</th>\n",
       "      <td>SID20189989</td>\n",
       "      <td>Sem_8</td>\n",
       "      <td>SEMI0086600</td>\n",
       "      <td>Paper 6</td>\n",
       "      <td>87</td>\n",
       "    </tr>\n",
       "    <tr>\n",
       "      <th>209610</th>\n",
       "      <td>SID20189989</td>\n",
       "      <td>Sem_8</td>\n",
       "      <td>SEMI0083259</td>\n",
       "      <td>Paper 7</td>\n",
       "      <td>73</td>\n",
       "    </tr>\n",
       "  </tbody>\n",
       "</table>\n",
       "<p>209611 rows × 5 columns</p>\n",
       "</div>"
      ],
      "text/plain": [
       "         Student_ID Semster_Name     Paper_ID Paper_Name  Marks\n",
       "0       SID20131143        Sem_1  SEMI0012995    Paper 1     44\n",
       "1       SID20131143        Sem_1  SEMI0015183    Paper 2     74\n",
       "2       SID20131143        Sem_1  SEMI0018371    Paper 3     80\n",
       "3       SID20131143        Sem_1  SEMI0015910    Paper 4     44\n",
       "4       SID20131143        Sem_1  SEMI0016208    Paper 5     95\n",
       "...             ...          ...          ...        ...    ...\n",
       "209606  SID20189989        Sem_8  SEMI0082598    Paper 3     94\n",
       "209607  SID20189989        Sem_8  SEMI0088030    Paper 4     49\n",
       "209608  SID20189989        Sem_8  SEMI0081794    Paper 5     47\n",
       "209609  SID20189989        Sem_8  SEMI0086600    Paper 6     87\n",
       "209610  SID20189989        Sem_8  SEMI0083259    Paper 7     73\n",
       "\n",
       "[209611 rows x 5 columns]"
      ]
     },
     "execution_count": 107,
     "metadata": {},
     "output_type": "execute_result"
    }
   ],
   "source": [
    "perf_df"
   ]
  },
  {
   "cell_type": "code",
   "execution_count": 121,
   "metadata": {},
   "outputs": [
    {
     "data": {
      "text/plain": [
       "Student_ID      object\n",
       "Semster_Name    object\n",
       "Paper_ID        object\n",
       "Paper_Name      object\n",
       "Marks            int64\n",
       "dtype: object"
      ]
     },
     "execution_count": 121,
     "metadata": {},
     "output_type": "execute_result"
    }
   ],
   "source": [
    "perf_df.dtypes"
   ]
  },
  {
   "cell_type": "code",
   "execution_count": 134,
   "metadata": {},
   "outputs": [],
   "source": [
    "student_perf = pd.merge(perf_df,student_df,on='Student_ID')"
   ]
  },
  {
   "cell_type": "code",
   "execution_count": 135,
   "metadata": {},
   "outputs": [
    {
     "data": {
      "text/html": [
       "<div>\n",
       "<style scoped>\n",
       "    .dataframe tbody tr th:only-of-type {\n",
       "        vertical-align: middle;\n",
       "    }\n",
       "\n",
       "    .dataframe tbody tr th {\n",
       "        vertical-align: top;\n",
       "    }\n",
       "\n",
       "    .dataframe thead th {\n",
       "        text-align: right;\n",
       "    }\n",
       "</style>\n",
       "<table border=\"1\" class=\"dataframe\">\n",
       "  <thead>\n",
       "    <tr style=\"text-align: right;\">\n",
       "      <th></th>\n",
       "      <th>Student_ID</th>\n",
       "      <th>Semster_Name</th>\n",
       "      <th>Paper_ID</th>\n",
       "      <th>Paper_Name</th>\n",
       "      <th>Marks</th>\n",
       "      <th>Department_Choices</th>\n",
       "      <th>Department_Admission</th>\n",
       "      <th>Admitted</th>\n",
       "    </tr>\n",
       "  </thead>\n",
       "  <tbody>\n",
       "    <tr>\n",
       "      <th>0</th>\n",
       "      <td>SID20131143</td>\n",
       "      <td>Sem_1</td>\n",
       "      <td>SEMI0012995</td>\n",
       "      <td>Paper 1</td>\n",
       "      <td>44</td>\n",
       "      <td>IDEPT7783</td>\n",
       "      <td>IDEPT7783</td>\n",
       "      <td>2013</td>\n",
       "    </tr>\n",
       "    <tr>\n",
       "      <th>1</th>\n",
       "      <td>SID20131143</td>\n",
       "      <td>Sem_1</td>\n",
       "      <td>SEMI0015183</td>\n",
       "      <td>Paper 2</td>\n",
       "      <td>74</td>\n",
       "      <td>IDEPT7783</td>\n",
       "      <td>IDEPT7783</td>\n",
       "      <td>2013</td>\n",
       "    </tr>\n",
       "    <tr>\n",
       "      <th>2</th>\n",
       "      <td>SID20131143</td>\n",
       "      <td>Sem_1</td>\n",
       "      <td>SEMI0018371</td>\n",
       "      <td>Paper 3</td>\n",
       "      <td>80</td>\n",
       "      <td>IDEPT7783</td>\n",
       "      <td>IDEPT7783</td>\n",
       "      <td>2013</td>\n",
       "    </tr>\n",
       "    <tr>\n",
       "      <th>3</th>\n",
       "      <td>SID20131143</td>\n",
       "      <td>Sem_1</td>\n",
       "      <td>SEMI0015910</td>\n",
       "      <td>Paper 4</td>\n",
       "      <td>44</td>\n",
       "      <td>IDEPT7783</td>\n",
       "      <td>IDEPT7783</td>\n",
       "      <td>2013</td>\n",
       "    </tr>\n",
       "    <tr>\n",
       "      <th>4</th>\n",
       "      <td>SID20131143</td>\n",
       "      <td>Sem_1</td>\n",
       "      <td>SEMI0016208</td>\n",
       "      <td>Paper 5</td>\n",
       "      <td>95</td>\n",
       "      <td>IDEPT7783</td>\n",
       "      <td>IDEPT7783</td>\n",
       "      <td>2013</td>\n",
       "    </tr>\n",
       "  </tbody>\n",
       "</table>\n",
       "</div>"
      ],
      "text/plain": [
       "    Student_ID Semster_Name     Paper_ID Paper_Name  Marks Department_Choices  \\\n",
       "0  SID20131143        Sem_1  SEMI0012995    Paper 1     44          IDEPT7783   \n",
       "1  SID20131143        Sem_1  SEMI0015183    Paper 2     74          IDEPT7783   \n",
       "2  SID20131143        Sem_1  SEMI0018371    Paper 3     80          IDEPT7783   \n",
       "3  SID20131143        Sem_1  SEMI0015910    Paper 4     44          IDEPT7783   \n",
       "4  SID20131143        Sem_1  SEMI0016208    Paper 5     95          IDEPT7783   \n",
       "\n",
       "  Department_Admission Admitted  \n",
       "0            IDEPT7783     2013  \n",
       "1            IDEPT7783     2013  \n",
       "2            IDEPT7783     2013  \n",
       "3            IDEPT7783     2013  \n",
       "4            IDEPT7783     2013  "
      ]
     },
     "execution_count": 135,
     "metadata": {},
     "output_type": "execute_result"
    }
   ],
   "source": [
    "student_perf.head()"
   ]
  },
  {
   "cell_type": "code",
   "execution_count": 156,
   "metadata": {},
   "outputs": [
    {
     "data": {
      "text/plain": [
       "Student_ID              object\n",
       "Semster_Name            object\n",
       "Paper_ID                object\n",
       "Paper_Name              object\n",
       "Marks                    int64\n",
       "Department_Choices      object\n",
       "Department_Admission    object\n",
       "Admitted                object\n",
       "dtype: object"
      ]
     },
     "execution_count": 156,
     "metadata": {},
     "output_type": "execute_result"
    }
   ],
   "source": [
    "student_perf.dtypes"
   ]
  },
  {
   "cell_type": "code",
   "execution_count": 157,
   "metadata": {},
   "outputs": [],
   "source": [
    "years = range(2013,2019)"
   ]
  },
  {
   "cell_type": "code",
   "execution_count": 165,
   "metadata": {},
   "outputs": [],
   "source": [
    "student_perf['Admitted']=student_perf['Admitted'].astype(int)"
   ]
  },
  {
   "cell_type": "code",
   "execution_count": 243,
   "metadata": {},
   "outputs": [],
   "source": [
    "yr2013 = student_perf[student_perf['Admitted']==2013]\n",
    "yr2013 = yr2013.rename(columns={'Department_Admission':\"Department_ID\"})"
   ]
  },
  {
   "cell_type": "code",
   "execution_count": 244,
   "metadata": {},
   "outputs": [
    {
     "data": {
      "text/plain": [
       "Student_ID            object\n",
       "Semster_Name          object\n",
       "Paper_ID              object\n",
       "Paper_Name            object\n",
       "Marks                  int64\n",
       "Department_Choices    object\n",
       "Department_ID         object\n",
       "Admitted               int64\n",
       "dtype: object"
      ]
     },
     "execution_count": 244,
     "metadata": {},
     "output_type": "execute_result"
    }
   ],
   "source": [
    "yr2013.dtypes"
   ]
  },
  {
   "cell_type": "code",
   "execution_count": 247,
   "metadata": {},
   "outputs": [],
   "source": [
    "yr2013 = pd.merge(yr2013,dpt_df,on='Department_ID')"
   ]
  },
  {
   "cell_type": "code",
   "execution_count": 248,
   "metadata": {},
   "outputs": [
    {
     "data": {
      "text/plain": [
       "Department_Name\n",
       "Physics                                                          71.115778\n",
       "Industrial Engineering and Operations Research (IEOR)            71.062366\n",
       "National Centre for Aerospace Innovation and Research (NCAIR)    70.765507\n",
       "Mathematics                                                      70.483516\n",
       "Centre for Technology Alternatives for Rural Areas (CTARA)       70.357798\n",
       "Sophisticated Analytical Instrument Facility (SAIF)              70.335036\n",
       "Metallurgical Engineering & Materials Science                    70.297018\n",
       "Biosciences and Bioengineering                                   70.199653\n",
       "School of Management                                             70.176966\n",
       "Centre for Distance Engineering Education Programme (CDEEP)      70.142308\n",
       "Name: Marks, dtype: float64"
      ]
     },
     "execution_count": 248,
     "metadata": {},
     "output_type": "execute_result"
    }
   ],
   "source": [
    "top10dept=pd.DataFrame\n",
    "top10dept= yr2013.groupby('Department_Name')['Marks'].mean().nlargest(10)\n",
    "top10dept"
   ]
  },
  {
   "cell_type": "code",
   "execution_count": 229,
   "metadata": {},
   "outputs": [],
   "source": [
    "top10dept['Department_ID'] = top10dept.index.values"
   ]
  },
  {
   "cell_type": "code",
   "execution_count": 230,
   "metadata": {},
   "outputs": [
    {
     "data": {
      "text/plain": [
       "Department_Admission\n",
       "IDEPT2425                                                  71.1158\n",
       "IDEPT8825                                                  71.0624\n",
       "IDEPT7626                                                  70.7655\n",
       "IDEPT8379                                                  70.4835\n",
       "IDEPT1533                                                  70.3578\n",
       "IDEPT6347                                                   70.335\n",
       "IDEPT8313                                                   70.297\n",
       "IDEPT5528                                                  70.1997\n",
       "IDEPT1096                                                   70.177\n",
       "IDEPT7783                                                  70.1423\n",
       "Department_ID    [IDEPT2425, IDEPT8825, IDEPT7626, IDEPT8379, I...\n",
       "Name: Marks, dtype: object"
      ]
     },
     "execution_count": 230,
     "metadata": {},
     "output_type": "execute_result"
    }
   ],
   "source": [
    "top10dept"
   ]
  },
  {
   "cell_type": "code",
   "execution_count": null,
   "metadata": {},
   "outputs": [],
   "source": []
  }
 ],
 "metadata": {
  "kernelspec": {
   "display_name": "Python 3",
   "language": "python",
   "name": "python3"
  },
  "language_info": {
   "codemirror_mode": {
    "name": "ipython",
    "version": 3
   },
   "file_extension": ".py",
   "mimetype": "text/x-python",
   "name": "python",
   "nbconvert_exporter": "python",
   "pygments_lexer": "ipython3",
   "version": "3.8.5"
  }
 },
 "nbformat": 4,
 "nbformat_minor": 4
}
